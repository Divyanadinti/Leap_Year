{
 "cells": [
  {
   "cell_type": "markdown",
   "id": "1f581538",
   "metadata": {},
   "source": [
    "Write a Python function to check if a given year is a leap year."
   ]
  },
  {
   "cell_type": "code",
   "execution_count": 1,
   "id": "157c5e6e",
   "metadata": {},
   "outputs": [
    {
     "name": "stdout",
     "output_type": "stream",
     "text": [
      "True\n",
      "False\n"
     ]
    }
   ],
   "source": [
    "def is_leap_year(year):\n",
    "    if (year % 4 == 0 and year % 100 != 0) or (year % 400 == 0):\n",
    "        return True\n",
    "    return False\n",
    "\n",
    "# Example usage\n",
    "print(is_leap_year(2020))\n",
    "print(is_leap_year(2021))"
   ]
  },
  {
   "cell_type": "code",
   "execution_count": null,
   "id": "9eeb63ef",
   "metadata": {},
   "outputs": [],
   "source": []
  }
 ],
 "metadata": {
  "kernelspec": {
   "display_name": "Python 3 (ipykernel)",
   "language": "python",
   "name": "python3"
  },
  "language_info": {
   "codemirror_mode": {
    "name": "ipython",
    "version": 3
   },
   "file_extension": ".py",
   "mimetype": "text/x-python",
   "name": "python",
   "nbconvert_exporter": "python",
   "pygments_lexer": "ipython3",
   "version": "3.10.9"
  }
 },
 "nbformat": 4,
 "nbformat_minor": 5
}
